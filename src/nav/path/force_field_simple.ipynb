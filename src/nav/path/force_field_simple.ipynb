{
 "cells": [
  {
   "cell_type": "markdown",
   "metadata": {},
   "source": [
    "# Path planning"
   ]
  },
  {
   "cell_type": "code",
   "execution_count": 2,
   "metadata": {
    "collapsed": false
   },
   "outputs": [
    {
     "name": "stdout",
     "output_type": "stream",
     "text": [
      "Populating the interactive namespace from numpy and matplotlib\n"
     ]
    }
   ],
   "source": [
    "%pylab inline"
   ]
  },
  {
   "cell_type": "code",
   "execution_count": 3,
   "metadata": {
    "collapsed": true
   },
   "outputs": [],
   "source": [
    "import scipy.linalg as linalg"
   ]
  },
  {
   "cell_type": "markdown",
   "metadata": {},
   "source": [
    "Just a bunch of helper methods"
   ]
  },
  {
   "cell_type": "code",
   "execution_count": 4,
   "metadata": {
    "collapsed": true
   },
   "outputs": [],
   "source": [
    "def circle(x, y, r, n=100):\n",
    "    t = linspace(0, 2*pi, n)\n",
    "    return r*cos(t)+x, r*sin(t)+y\n",
    "\n",
    "def phi(x):\n",
    "    q = np.exp(x)\n",
    "    return 1/(1+q)\n",
    "\n",
    "def d_phi(x):\n",
    "    q = 1/(1+np.exp(x))\n",
    "    return -q*(1-q)"
   ]
  },
  {
   "cell_type": "code",
   "execution_count": 5,
   "metadata": {
    "collapsed": true
   },
   "outputs": [],
   "source": [
    "vec_phi = np.vectorize(phi)\n",
    "vec_d_phi = np.vectorize(d_phi)\n",
    "\n",
    "def compute_loss(curr_pos, circ_mat, circ_rad, C):\n",
    "    all_dist = C*(linalg.norm(circ_mat - curr_pos[:,newaxis], axis=0)**2/circ_rad - 1)\n",
    "    return np.sum(phi(all_dist))\n",
    "    \n",
    "def loss(pos_mat, circ_mat, circ_rad, C):\n",
    "    return np.sum(np.apply_along_axis(lambda x: compute_loss(x, circ_mat, circ_rad, C), 0, pos_mat))\n",
    "\n",
    "def compute_dloss(curr_pos, circ_mat, circ_rad, C):\n",
    "    dif_mat = curr_pos[:,newaxis] - circ_mat\n",
    "    all_dist = C*(linalg.norm(dif_mat, axis=0)**2/circ_rad - 1)\n",
    "    return 2*C*np.sum(d_phi(all_dist)*dif_mat/circ_rad, axis=1)\n",
    "\n",
    "def dloss(pos_mat, circ_mat, circ_rad, C):\n",
    "    return np.apply_along_axis(lambda x: compute_dloss(x, circ_mat, circ_rad, C), 0, pos_mat)\n",
    "\n",
    "def complete_dloss(pos_mat, circ_mat, circ_rad, C, K):\n",
    "    dloss_obstacles = dloss(pos_mat, circ_mat, circ_rad, C)[:,1:-1]\n",
    "    diff_mat = -pos_mat[:,:-2] + 2*pos_mat[:,1:-1] - pos_mat[:,2:]\n",
    "    zeros_mat = np.zeros(2)[:,newaxis]\n",
    "    return np.c_[zeros_mat, dloss_obstacles + K*diff_mat, zeros_mat]\n",
    "\n",
    "def complete_loss(pos_mat, circ_mat, circ_rad, C, K):\n",
    "    loss_obstacles = loss(pos_mat, circ_mat, circ_rad, C)\n",
    "    loss_diff = sum(linalg.norm(pos_mat[:,1:] - pos_mat[:,:-1], axis=0))\n",
    "    return loss_obstacles + K*loss_diff\n"
   ]
  },
  {
   "cell_type": "markdown",
   "metadata": {},
   "source": [
    "Plot the initial path guess"
   ]
  },
  {
   "cell_type": "code",
   "execution_count": 6,
   "metadata": {
    "collapsed": true
   },
   "outputs": [],
   "source": [
    "def plot_path(points, circles, radii, plot_title=''):\n",
    "    plot(points[0,:], points[1,:], '-')\n",
    "    for idx in range(len(radii)):\n",
    "        curr_circle = circle(circles[0, idx], circles[1, idx], radii[idx])\n",
    "        plot(curr_circle[0], curr_circle[1], 'r')\n",
    "        \n",
    "    gca().set_aspect('equal')\n",
    "    title(plot_title)\n",
    "    #xlim(-1, 1)\n",
    "    #ylim(-.7, .7)"
   ]
  },
  {
   "cell_type": "code",
   "execution_count": 7,
   "metadata": {
    "collapsed": false
   },
   "outputs": [
    {
     "name": "stdout",
     "output_type": "stream",
     "text": [
      "[[ 0. ]\n",
      " [ 0.1]]\n",
      "[ 0.25]\n"
     ]
    }
   ],
   "source": [
    "N_points = 100\n",
    "points = np.zeros((2, N_points)) # the initial set of points\n",
    "points[0,:] = np.linspace(-1, 1, N_points)\n",
    "\n",
    "circ_pos = np.array([0, 0.1])[:,newaxis]\n",
    "print(circ_pos)\n",
    "circ_radius2 = np.array([(1/2.)**2])\n",
    "print(circ_radius2)"
   ]
  },
  {
   "cell_type": "code",
   "execution_count": 8,
   "metadata": {
    "collapsed": false
   },
   "outputs": [
    {
     "data": {
      "image/png": "[encoded data removed]",
      "text/plain": [
       "<matplotlib.figure.Figure at 0x116cb69b0>"
      ]
     },
     "metadata": {},
     "output_type": "display_data"
    }
   ],
   "source": [
    "plot_path(points, circ_pos, sqrt(circ_radius2), 'Initial guess')"
   ]
  },
  {
   "cell_type": "markdown",
   "metadata": {},
   "source": [
    "The idea here is to use the classical momentum technique; e.g. consider some 'velocity' vector $v_t$, where $\\eta > 0$ is the learning rate, and where $0 < \\mu < 1$ is the momentum coefficient, then we have the following scheme, for $\\theta_t$ being the argument at iteration $t$, which we're minimizing over:\n",
    "\n",
    "$$\n",
    "\\begin{align}\n",
    "v_t &=& \\mu v_{t-1} - \\eta \\nabla f(\\theta_{t-1})\\\\\n",
    "\\theta_t &=& \\theta_{t-1} + v_t\n",
    "\\end{align}\n",
    "$$\n",
    "\n",
    "Running this new iterative scheme is much faster than just vanilla gradient descent, though it doesn't fully optimize the function (e.g. compare the `spring_backtracking_momentum` to `spring_step_backtracking`), so it might be worth doing a second-pass using just a simple gradient descent with line search to complete the optimization. There's also this question of whether this would even be necessary or if we just want to do 'good enough' for our purposes.\n",
    "\n",
    "Note also that we send $C\\to\\infty$ at the same time that we optimize the objective: this is done to save time. E.g. while we could optimize first over each $C$ and then rework the problem after each $C$ has converged (which may be a possibility to evaluate); in general, the intial steps will be quite crappy, and we don't really care about convergence for small $C$ (soft-wall constraints), but rather we only really want the solution to the problem for larger $C$; this seems like a reasonable tradeoff, even though we may not be guaranteed to reach a local optimum point here, anyways."
   ]
  },
  {
   "cell_type": "code",
   "execution_count": 11,
   "metadata": {
    "collapsed": false
   },
   "outputs": [
    {
     "name": "stdout",
     "output_type": "stream",
     "text": [
      "[[-0.5  -0.15  0.25  0.5  -0.25]\n",
      " [ 0.1  -0.5   0.25 -0.05  0.5 ]]\n",
      "[ 0.04    0.16    0.0625  0.04    0.0625]\n",
      "On iteration 0\n",
      "Current step size : 0.002\n",
      "Converged in cooling step; increasing schedule(C=1.0006001500200012) and resetting velocity\n",
      "Converged in cooling step; increasing schedule(C=1.1026430382275685) and resetting velocity\n",
      "Converged in cooling step; increasing schedule(C=1.2149709349108615) and resetting velocity\n",
      "Converged in cooling step; increasing schedule(C=1.3383403003142242) and resetting velocity\n",
      "Converged in cooling step; increasing schedule(C=1.4745315767080815) and resetting velocity\n",
      "Converged in cooling step; increasing schedule(C=1.6249067898614513) and resetting velocity\n",
      "On iteration 100\n",
      "Current step size : 0.0004096\n",
      "Converged in cooling step; increasing schedule(C=1.7907965822207599) and resetting velocity\n",
      "Converged in cooling step; increasing schedule(C=1.9746093842674453) and resetting velocity\n",
      "Converged in cooling step; increasing schedule(C=2.1759833743157055) and resetting velocity\n",
      "Converged in cooling step; increasing schedule(C=2.399572852280046) and resetting velocity\n",
      "Converged in cooling step; increasing schedule(C=2.6450786973222606) and resetting velocity\n",
      "On iteration 200\n",
      "Current step size : 3.2e-06\n",
      "Converged in cooling step; increasing schedule(C=2.9139540032952227) and resetting velocity\n",
      "Converged in cooling step; increasing schedule(C=3.2111239393524036) and resetting velocity\n",
      "Converged in cooling step; increasing schedule(C=3.5410775289584766) and resetting velocity\n",
      "Converged in cooling step; increasing schedule(C=3.901812396935113) and resetting velocity\n",
      "Converged in cooling step; increasing schedule(C=4.30015576800794) and resetting velocity\n",
      "On iteration 300\n",
      "Current step size : 0.0002048\n",
      "Converged in cooling step; increasing schedule(C=4.740588655751044) and resetting velocity\n",
      "Converged in cooling step; increasing schedule(C=5.224564273718945) and resetting velocity\n",
      "Converged in cooling step; increasing schedule(C=5.758525668386743) and resetting velocity\n",
      "Converged in cooling step; increasing schedule(C=6.3419836711912) and resetting velocity\n",
      "Converged in cooling step; increasing schedule(C=6.99014766508904) and resetting velocity\n",
      "On iteration 400\n",
      "Current step size : 0.0262144\n",
      "Converged in cooling step; increasing schedule(C=7.703014694670049) and resetting velocity\n",
      "Converged in cooling step; increasing schedule(C=8.487732331089939) and resetting velocity\n",
      "Converged in cooling step; increasing schedule(C=9.354260899246116) and resetting velocity\n",
      "Converged in cooling step; increasing schedule(C=10.304101918317203) and resetting velocity\n",
      "Converged in cooling step; increasing schedule(C=11.35833840313735) and resetting velocity\n",
      "Converged in cooling step; increasing schedule(C=12.511675458837791) and resetting velocity\n"
     ]
    },
    {
     "name": "stderr",
     "output_type": "stream",
     "text": [
      "/Users/ischeinfeld/anaconda/lib/python3.6/site-packages/ipykernel/__main__.py:10: RuntimeWarning: overflow encountered in exp\n",
      "/Users/ischeinfeld/anaconda/lib/python3.6/site-packages/ipykernel/__main__.py:6: RuntimeWarning: overflow encountered in exp\n"
     ]
    },
    {
     "name": "stdout",
     "output_type": "stream",
     "text": [
      "On iteration 500\n",
      "Current step size : 0.0032768\n",
      "Converged in cooling step; increasing schedule(C=13.790394855829028) and resetting velocity\n",
      "Converged in cooling step; increasing schedule(C=15.190685359198348) and resetting velocity\n",
      "Converged in cooling step; increasing schedule(C=16.74990345722552) and resetting velocity\n",
      "Converged in cooling step; increasing schedule(C=18.476553212092597) and resetting velocity\n",
      "Converged in cooling step; increasing schedule(C=20.366932079103076) and resetting velocity\n",
      "On iteration 600\n",
      "Current step size : 2.56e-05\n",
      "Converged in cooling step; increasing schedule(C=22.466440196960775) and resetting velocity\n",
      "Converged in cooling step; increasing schedule(C=24.765033623871876) and resetting velocity\n",
      "Converged in cooling step; increasing schedule(C=27.312453588287276) and resetting velocity\n",
      "Converged in cooling step; increasing schedule(C=30.1098645320335) and resetting velocity\n",
      "On iteration 700\n",
      "Current step size : 0.0002048\n",
      "Converged in cooling step; increasing schedule(C=33.20707292672791) and resetting velocity\n",
      "Converged in cooling step; increasing schedule(C=36.61188659391233) and resetting velocity\n",
      "Converged in cooling step; increasing schedule(C=40.361769111714665) and resetting velocity\n",
      "Converged in cooling step; increasing schedule(C=44.509074183952855) and resetting velocity\n",
      "On iteration 800\n",
      "Current step size : 0.0032768\n",
      "Converged in cooling step; increasing schedule(C=49.067806734864995) and resetting velocity\n",
      "Converged in cooling step; increasing schedule(C=54.109685924844435) and resetting velocity\n",
      "Converged in cooling step; increasing schedule(C=59.66366848571001) and resetting velocity\n",
      "Converged in cooling step; increasing schedule(C=65.77457311851636) and resetting velocity\n",
      "Converged in cooling step; increasing schedule(C=72.49687204260292) and resetting velocity\n",
      "On iteration 900\n",
      "Current step size : 4e-07\n",
      "Converged in cooling step; increasing schedule(C=79.938171251051) and resetting velocity\n",
      "Converged in cooling step; increasing schedule(C=88.10801952397141) and resetting velocity\n",
      "Converged in cooling step; increasing schedule(C=97.15169434012581) and resetting velocity\n",
      "Converged in cooling step; increasing schedule(C=107.08080067060784) and resetting velocity\n",
      "On iteration 1000\n",
      "Current step size : 0.0016384\n"
     ]
    },
    {
     "data": {
      "image/png": "[encoded data removed]",
      "text/plain": [
       "<matplotlib.figure.Figure at 0x11a1ab978>"
      ]
     },
     "metadata": {},
     "output_type": "display_data"
    }
   ],
   "source": [
    "MAX_ITER = 1000\n",
    "INIT_STEP_SIZE = 1e-3\n",
    "MIN_STEP = 1e-2\n",
    "RESET_STEP_SIZE = 1e-7\n",
    "COOLING_SCHEDULE = 1.0001\n",
    "FAST_COOLING_SCHEDULE = 1.1\n",
    "INIT_CONSTRAINT_HARDNESS = 1\n",
    "INIT_SPRING_HARDNESS = 20\n",
    "MAX_TIME_INCREASE = 10\n",
    "MOMENTUM_CHANGE = .2\n",
    "\n",
    "SCALE = 1\n",
    "\n",
    "curr_pos = copy(points * SCALE)\n",
    "constraint_hardness = INIT_CONSTRAINT_HARDNESS\n",
    "\n",
    "circ_pos = array([[-.5, .1], [-.15, -.5], [.25, .25], [.5, -.05], [-.25, .5]]).T * SCALE\n",
    "circ_radius2 = (array([.2, .4, .25, .2, .25]) * SCALE) **2\n",
    "\n",
    "print(circ_pos)\n",
    "print(circ_radius2)\n",
    "\n",
    "count = 0\n",
    "curr_step = INIT_STEP_SIZE\n",
    "prev_loss = float('inf')\n",
    "momentum = .99\n",
    "\n",
    "prev_velocity = np.zeros(curr_pos.shape)\n",
    "curr_velocity = copy(prev_velocity)\n",
    "\n",
    "times_increased = 0\n",
    "converged = False\n",
    "\n",
    "for i in range(MAX_ITER+1):\n",
    "    while True:\n",
    "        # Accelerated gradient (e.g. with momentum)\n",
    "        curr_velocity = momentum * prev_velocity - curr_step*complete_dloss(curr_pos, circ_pos, circ_radius2, constraint_hardness, INIT_SPRING_HARDNESS)\n",
    "        proposed_pos = curr_pos + curr_velocity\n",
    "        curr_loss = complete_loss(proposed_pos, circ_pos, circ_radius2, constraint_hardness, INIT_SPRING_HARDNESS)\n",
    "        \n",
    "        # Ensure decrease\n",
    "        if curr_loss < prev_loss:\n",
    "            curr_pos = proposed_pos\n",
    "            prev_velocity = curr_velocity\n",
    "            prev_loss = curr_loss\n",
    "            curr_step *= 2\n",
    "            times_increased = 0\n",
    "            break\n",
    "        # Otherwise, decrease the step size\n",
    "        else:\n",
    "            curr_step *= .8\n",
    "        if curr_step < MIN_STEP:\n",
    "            if times_increased > MAX_TIME_INCREASE:\n",
    "                print('Cooling schedule is finished. Converged to final result.')\n",
    "                converged = True\n",
    "                break\n",
    "            # Once the cooling step converges, increase the constraint hardness such that the optimization\n",
    "            # Can finish\n",
    "            print('Converged in cooling step; increasing schedule'\n",
    "                  '(C={}) and resetting velocity'.format(constraint_hardness))\n",
    "            prev_velocity = np.zeros(prev_velocity.shape)\n",
    "            constraint_hardness *= FAST_COOLING_SCHEDULE\n",
    "            \n",
    "            curr_step = RESET_STEP_SIZE;\n",
    "            times_increased += 1\n",
    "\n",
    "    if converged:\n",
    "        break\n",
    "    constraint_hardness *= COOLING_SCHEDULE\n",
    "    \n",
    "    \n",
    "    if i%100==0: # once 10\n",
    "        plot_path(curr_pos, circ_pos, sqrt(circ_radius2), 'Iteration: {}'.format(i))\n",
    "        savefig('images/iter{:02d}.png'.format(count))\n",
    "        #close()\n",
    "        count += 1\n",
    "        print('On iteration {}'.format(i))\n",
    "        print('Current step size : {}'.format(curr_step))\n",
    "        \n",
    "       "
   ]
  },
  {
   "cell_type": "code",
   "execution_count": null,
   "metadata": {
    "collapsed": true
   },
   "outputs": [],
   "source": []
  },
  {
   "cell_type": "code",
   "execution_count": null,
   "metadata": {
    "collapsed": true
   },
   "outputs": [],
   "source": []
  }
 ],
 "metadata": {
  "kernelspec": {
   "display_name": "Python 3",
   "language": "python",
   "name": "python3"
  },
  "language_info": {
   "codemirror_mode": {
    "name": "ipython",
    "version": 3
   },
   "file_extension": ".py",
   "mimetype": "text/x-python",
   "name": "python",
   "nbconvert_exporter": "python",
   "pygments_lexer": "ipython3",
   "version": "3.6.0"
  }
 },
 "nbformat": 4,
 "nbformat_minor": 2
}
