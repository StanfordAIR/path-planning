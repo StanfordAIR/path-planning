{
 "cells": [
  {
   "cell_type": "code",
   "execution_count": 7,
   "metadata": {
    "collapsed": true
   },
   "outputs": [],
   "source": [
    "import pandas as pd"
   ]
  },
  {
   "cell_type": "code",
   "execution_count": 14,
   "metadata": {
    "collapsed": false
   },
   "outputs": [
    {
     "data": {
      "text/plain": [
       "38.14626944444444"
      ]
     },
     "execution_count": 14,
     "metadata": {},
     "output_type": "execute_result"
    }
   ],
   "source": [
    "def to_decimal(coord):\n",
    "    direc = coord[0]\n",
    "    coord = coord[1:].split('-')\n",
    "    decimal = 0\n",
    "    for power in range(len(coord)):\n",
    "        decimal += float(coord[power]) * ((1/60) ** power)\n",
    "        \n",
    "    if direc == \"W\":\n",
    "        return (-1) * decimal\n",
    "    else:\n",
    "        return decimal\n",
    "    \n",
    "to_decimal(\"N38-08-46.57\")"
   ]
  },
  {
   "cell_type": "code",
   "execution_count": 18,
   "metadata": {
    "collapsed": false
   },
   "outputs": [],
   "source": [
    "boundary = pd.read_csv(\"boundary.csv\", header=None)\n",
    "boundary = boundary.applymap(to_decimal)\n",
    "boundary.to_csv(\"boundary_dec.csv\", header=None, index=None)"
   ]
  },
  {
   "cell_type": "code",
   "execution_count": null,
   "metadata": {
    "collapsed": true
   },
   "outputs": [],
   "source": []
  }
 ],
 "metadata": {
  "kernelspec": {
   "display_name": "Python 3",
   "language": "python",
   "name": "python3"
  },
  "language_info": {
   "codemirror_mode": {
    "name": "ipython",
    "version": 3
   },
   "file_extension": ".py",
   "mimetype": "text/x-python",
   "name": "python",
   "nbconvert_exporter": "python",
   "pygments_lexer": "ipython3",
   "version": "3.6.0"
  }
 },
 "nbformat": 4,
 "nbformat_minor": 2
}
